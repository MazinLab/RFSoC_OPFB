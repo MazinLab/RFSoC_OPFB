{
 "cells": [
  {
   "cell_type": "markdown",
   "metadata": {},
   "source": [
    "# 4096 Channel 2/1 Oversampled 4 GHz Polyphase Filterbank on the Xilinx RFSoC\n",
    "\n",
    "This notebook tests the functionality of the OPFB."
   ]
  },
  {
   "cell_type": "markdown",
   "metadata": {},
   "source": [
    "## Imports, Definitions, and Intialize Variables"
   ]
  },
  {
   "cell_type": "code",
   "execution_count": 1,
   "metadata": {},
   "outputs": [
    {
     "data": {
      "application/javascript": [
       "\n",
       "try {\n",
       "require(['notebook/js/codecell'], function(codecell) {\n",
       "  codecell.CodeCell.options_default.highlight_modes[\n",
       "      'magic_text/x-csrc'] = {'reg':[/^%%microblaze/]};\n",
       "  Jupyter.notebook.events.one('kernel_ready.Kernel', function(){\n",
       "      Jupyter.notebook.get_cells().map(function(cell){\n",
       "          if (cell.cell_type == 'code'){ cell.auto_highlight(); } }) ;\n",
       "  });\n",
       "});\n",
       "} catch (e) {};\n"
      ]
     },
     "metadata": {},
     "output_type": "display_data"
    },
    {
     "data": {
      "application/javascript": [
       "\n",
       "try {\n",
       "require(['notebook/js/codecell'], function(codecell) {\n",
       "  codecell.CodeCell.options_default.highlight_modes[\n",
       "      'magic_text/x-csrc'] = {'reg':[/^%%pybind11/]};\n",
       "  Jupyter.notebook.events.one('kernel_ready.Kernel', function(){\n",
       "      Jupyter.notebook.get_cells().map(function(cell){\n",
       "          if (cell.cell_type == 'code'){ cell.auto_highlight(); } }) ;\n",
       "  });\n",
       "});\n",
       "} catch (e) {};\n"
      ]
     },
     "metadata": {},
     "output_type": "display_data"
    }
   ],
   "source": [
    "from mkidgen3.mkidpynq import dma_status\n",
    "from mkidgen3.testutils import extract_opfb_spec, do_fft\n",
    "from mkidgen3.fixedpoint import *\n",
    "import numpy as np\n",
    "import time\n",
    "import pynq\n",
    "from pynq import PL, Overlay, DefaultIP, allocate\n",
    "from fpbinary import FpBinary, OverflowEnum, RoundingEnum\n",
    "import matplotlib.pyplot as plt\n",
    "\n",
    "n_res = 2048 # number of MKID resonators\n",
    "n_bin = 4096 # number of PFB channels\n",
    "\n",
    "# initialize vars for data transfer\n",
    "n_packets_rcvd, n_packets_sent, pptx, input_buffer = 0, 0, None, None\n",
    "next_sample_send=0"
   ]
  },
  {
   "cell_type": "markdown",
   "metadata": {},
   "source": [
    "### Load the overlay and extract the dma core"
   ]
  },
  {
   "cell_type": "code",
   "execution_count": 2,
   "metadata": {},
   "outputs": [
    {
     "name": "stdout",
     "output_type": "stream",
     "text": [
      "PL Bitfile: /home/xilinx/jupyter_notebooks/OPFB_Debug/exact_old_version.bit\n",
      "PL Timestamp: 2022/4/14 22:38:7 +512392\n",
      "Overlay timestamp: 2022/4/14 22:38:7 +512392  Loaded: True\n",
      "DMA:\n",
      " Buffer Length: 262143 bytes\n",
      " MM2s\n",
      " Idle:False\n",
      " MM2S_DMASR (status):0x0\n",
      " MM2S_SA (ptr) :0x0\n",
      " MM2S_LENGTH (len):0\n",
      " S2MM\n",
      " Idle:False\n",
      " S2MM_DMASR (status):0x0\n",
      " S2MM_DA (ptr) :0x0\n",
      " S2MM_LENGTH (len):0\n"
     ]
    }
   ],
   "source": [
    "ol = Overlay('exact_old_version.bit')\n",
    "ol.download()\n",
    "dma = ol.axi_dma_0\n",
    "print(f\"PL Bitfile: {PL.bitfile_name}\\nPL Timestamp: {PL.timestamp}\\n\"\n",
    "      f\"Overlay timestamp: {ol.timestamp}  Loaded: {ol.is_loaded()}\")\n",
    "dma_status(dma)"
   ]
  },
  {
   "cell_type": "markdown",
   "metadata": {},
   "source": [
    "### Data Generation"
   ]
  },
  {
   "cell_type": "code",
   "execution_count": 3,
   "metadata": {},
   "outputs": [],
   "source": [
    "n_total_packets=272   #How many packets (each packet is enough samples for a single 4096 FFT frame)\n",
    "n_samples=256*n_total_packets*8  #How many waveform samples do we need to generate\n",
    "sample_rate=4.096e9\n",
    "\n",
    "freq=np.array([300.5,302])*1e6 #(np.linspace(1,4094,2046)-2047)*1e6  # -2048-2047 MHz\n",
    "amplitudes = (np.ones_like(freq))/2\n",
    "phases= np.zeros_like(freq)"
   ]
  },
  {
   "cell_type": "code",
   "execution_count": 4,
   "metadata": {},
   "outputs": [],
   "source": [
    "# Generate Comppplex Waveform\n",
    "t = 2 * np.pi * np.arange(n_samples)/sample_rate\n",
    "comb=np.zeros(n_samples, dtype=np.complex64)\n",
    "for i in range(freq.size):\n",
    "    comb += amplitudes[i] * np.exp(1j * (t * freq[i] + phases[i]))"
   ]
  },
  {
   "cell_type": "code",
   "execution_count": 5,
   "metadata": {},
   "outputs": [
    {
     "name": "stdout",
     "output_type": "stream",
     "text": [
      "Comb shape: (272, 2048). \n",
      "Total Samples: 557056. Memory: 4 MB\n",
      "Max value: 1.0.\n",
      "Expected tone amplitude factor: ~512 * N_TONES_IN_BIN. (4096/8 as FFT scale dfaults to 8 in last 3 stages)\n",
      "Resulting samples per output bin: 272.0\n"
     ]
    }
   ],
   "source": [
    "comb=comb.reshape(comb.size//n_res, n_res)\n",
    "print(f\"Comb shape: {comb.shape}. \\nTotal Samples: {comb.size}. Memory: {comb.size*8/1024**2:.0f} MB\\n\"\n",
    "      f\"Max value: {np.abs(comb).max()}.\\n\"\n",
    "      f\"Expected tone amplitude factor: ~512 * N_TONES_IN_BIN. (4096/8 as FFT scale dfaults to 8 in last 3 stages)\\n\"\n",
    "      f\"Resulting samples per output bin: {comb.size*2/n_bin}\")"
   ]
  },
  {
   "cell_type": "markdown",
   "metadata": {},
   "source": [
    "### Plot an FFT of the first full timeseries to be input to the OPFB"
   ]
  },
  {
   "cell_type": "code",
   "execution_count": 6,
   "metadata": {},
   "outputs": [
    {
     "data": {
      "image/png": "[encoded data removed]",
      "text/plain": [
       "<Figure size 504x288 with 1 Axes>"
      ]
     },
     "metadata": {
      "needs_background": "light"
     },
     "output_type": "display_data"
    }
   ],
   "source": [
    "plt.figure(figsize=(7,4))\n",
    "plt.plot(np.fft.fftfreq(comb.size, d=1/sample_rate)/1e9, \n",
    "         np.abs(np.fft.fft(comb.ravel(), norm='ortho')))\n",
    "plt.xlim(-sample_rate/2e9,sample_rate/2e9);\n",
    "plt.xlabel('Freq (GHz)');"
   ]
  },
  {
   "cell_type": "markdown",
   "metadata": {},
   "source": [
    "## Prepare an output array"
   ]
  },
  {
   "cell_type": "code",
   "execution_count": 7,
   "metadata": {},
   "outputs": [],
   "source": [
    "packets_out=np.zeros((comb.shape[0], n_bin), dtype=np.complex64)"
   ]
  },
  {
   "cell_type": "markdown",
   "metadata": {},
   "source": [
    "### DMA Transfer Functions"
   ]
  },
  {
   "cell_type": "code",
   "execution_count": 8,
   "metadata": {},
   "outputs": [],
   "source": [
    "def packet_to_buffer(packet, zero_i=tuple(), zero_q=tuple(), fp=True, fpgen=FP16_15, scale=1,\n",
    "                     opfb_format=True):\n",
    "    \"\"\"\n",
    "    Converts a packet of complex data into a n_res*2 uint16 array\n",
    "    Packet should be an array of dtype=np.complex64 or 128. length must be a multiple of 16\n",
    "    zero_i & zero_q may be set to a tuple to selectively zero out values going into specific lanes\n",
    "    Setting fp = False will result in the real and imaginaty values being multiplied by scale\n",
    "    and then cast to uint16. Otherwise FpBinary will be used to convert the data from float to signed 16_15.\n",
    "    \"\"\"\n",
    "    if fp:\n",
    "        ibits = [fpgen(x).__index__() for x in packet.real]\n",
    "        qbits = [fpgen(x).__index__() for x in packet.imag]\n",
    "    else:\n",
    "        ibits = (packet.real * scale).astype(np.uint16)\n",
    "        qbits = (packet.imag * scale).astype(np.uint16)\n",
    "    data = np.zeros(2 * packet.size, dtype=np.uint16)\n",
    "    if opfb_format:\n",
    "        for i in range(8):\n",
    "            data[i::16] = 0 if i in zero_i else ibits[i::8]\n",
    "            data[i + 8::16] = 0 if i in zero_q else qbits[i::8]\n",
    "    else:\n",
    "        data[::2] = ibits\n",
    "        data[1::2] = qbits\n",
    "    return data\n",
    "\n",
    "def prep_buffers(ntx=16, n_res=2048, n_bin=4096, latency_shift=3*16, bin_out=True):\n",
    "    \"\"\"\n",
    "    ntx: How many packets do we send per DMA transfer.\n",
    "         Must be <=16 to move the stream smoothly through the core\n",
    "    \"\"\"\n",
    "    global pptx, input_buffer, output_buffer\n",
    "    pptx = ntx\n",
    "\n",
    "    try:\n",
    "        # Close buffers if they are open\n",
    "        input_buffer.close()\n",
    "        output_buffer.close()\n",
    "    except (NameError,AttributeError):\n",
    "        pass\n",
    "\n",
    "    # Create the buffers\n",
    "    n_in_buff = n_res * 2 * pptx if n_packets_sent else n_res * 2 * pptx + latency_shift * 2\n",
    "    input_buffer = allocate(shape=(n_in_buff,), dtype=np.uint16)  # 2048 I & Q\n",
    "    output_buffer = allocate(shape=((n_bin if bin_out else n_res) * 2,), dtype=np.uint16)\n",
    "    \n",
    "def txcomb(dma, comb, n_res=2048, latency_shift=3*16, wait=True, **kwargs):\n",
    "    global n_packets_sent, pptx, input_buffer, next_sample_send\n",
    "    # 92/2 empirically determined to overcome reorder core latency\n",
    "\n",
    "    if n_packets_sent or latency_shift == 0:\n",
    "        n_to_send = pptx * n_res\n",
    "        data = comb.ravel()[next_sample_send:next_sample_send + n_to_send]\n",
    "        input_buffer[:] = packet_to_buffer(data, **kwargs)\n",
    "    else:\n",
    "        n_to_send = (pptx - 1) * n_res + latency_shift\n",
    "        data = comb.ravel()[:n_to_send]\n",
    "        input_buffer[:n_res * 2] = 0\n",
    "        input_buffer[n_res * 2:] = packet_to_buffer(data, **kwargs)\n",
    "    dma.sendchannel.transfer(input_buffer)\n",
    "    if wait:\n",
    "        dma.sendchannel.wait()\n",
    "    next_sample_send += n_to_send\n",
    "    n_packets_sent = 1 + next_sample_send // n_res\n",
    "    \n",
    "def rxpackets(dma, packets_out, n=None, status=False, packet_latency=1, wait=True, **kwargs):\n",
    "    \"\"\"Attempts to receive packets. If no number is specified then n_outstanding-1 are received.\"\"\"\n",
    "    global n_packets_sent, n_packets_rcvd\n",
    "    converted=None\n",
    "    if n is None:\n",
    "        n = n_packets_sent - n_packets_rcvd - packet_latency\n",
    "    for i in range(n):\n",
    "        if status:\n",
    "            print(f\"Receiving packet {n_packets_rcvd}\")\n",
    "        dma.recvchannel.transfer(output_buffer)\n",
    "        if wait:\n",
    "            dma.recvchannel.wait()\n",
    "        converted = packet_from_buffer(output_buffer, **kwargs)\n",
    "        packets_out[n_packets_rcvd] = converted\n",
    "        n_packets_rcvd += 1\n",
    "    return converted\n",
    "\n",
    "def packet_from_buffer(buffer, fp=True, scale=1, fpformat=(1,15)):\n",
    "    \"\"\"\n",
    "    Converts a buffer of uint16 fixed point data to a np.complex128.\n",
    "    Buffer must be in multiples of 2*n_bin.\n",
    "    \"\"\"\n",
    "    ibits = np.zeros(buffer.size // 2, dtype=np.uint16)\n",
    "    qbits = np.zeros(buffer.size // 2, dtype=np.uint16)\n",
    "    for i in range(16):  # NB this code WILL work for output that is in groups of 8 (resonators) as well\n",
    "        ibits[i::16] = buffer[2 * i::32]\n",
    "        qbits[i::16] = buffer[2 * i + 1::32]\n",
    "\n",
    "    packet = np.zeros(buffer.size // 2, dtype=np.complex128)\n",
    "    if fp:\n",
    "        fp = lambda x: FpBinary(int_bits=fpformat[0], frac_bits=fpformat[1], signed=True, bit_field=int(x))\n",
    "        packet.real = [float(fp(x)) for x in ibits]\n",
    "        packet.imag = [float(fp(x)) for x in qbits]\n",
    "    else:\n",
    "        packet.real = ibits * scale\n",
    "        packet.imag = qbits * scale\n",
    "\n",
    "    return packet\n",
    "\n",
    "def txrx(dma, comb, nper, packets_out, n_total_packets=None, packet_latency=1, in_per_out=2, bin_out=False,\n",
    "         txfp=FP16_15, rxfp=(1,15), wait=True, show=False, tx_post_opfb=False, latency_shift=3*16):\n",
    "    if n_total_packets is None:\n",
    "        n_total_packets=comb.size//256//8\n",
    "    prep_buffers(nper, bin_out=bin_out, latency_shift=latency_shift)\n",
    "    n_loop=(n_total_packets - n_packets_sent) // pptx\n",
    "    for i in range(n_loop):\n",
    "        txcomb(dma, comb, wait=wait, fpgen=txfp, latency_shift=latency_shift, opfb_format=not tx_post_opfb)\n",
    "        pending = n_packets_sent//in_per_out - n_packets_rcvd - packet_latency\n",
    "        if show:\n",
    "            print(f\"Sent: {n_packets_sent}  Pending: {pending}\")\n",
    "        rxpackets(dma, packets_out, n=pending, wait=wait, fpformat=rxfp)\n",
    "        if show:\n",
    "            print(f\"Received: {n_packets_rcvd}.\")\n",
    "        if i == 0:\n",
    "            prep_buffers(nper, bin_out=bin_out, latency_shift=latency_shift)"
   ]
  },
  {
   "cell_type": "markdown",
   "metadata": {},
   "source": [
    "## Send the data"
   ]
  },
  {
   "cell_type": "code",
   "execution_count": 9,
   "metadata": {},
   "outputs": [
    {
     "name": "stdout",
     "output_type": "stream",
     "text": [
      "Sent: 4  Pending: 3\n",
      "Received: 3.\n",
      "Sent: 8  Pending: 4\n",
      "Received: 7.\n",
      "Sent: 12  Pending: 4\n",
      "Received: 11.\n",
      "Sent: 16  Pending: 4\n",
      "Received: 15.\n",
      "Sent: 20  Pending: 4\n",
      "Received: 19.\n",
      "Sent: 24  Pending: 4\n",
      "Received: 23.\n",
      "Sent: 28  Pending: 4\n",
      "Received: 27.\n",
      "Sent: 32  Pending: 4\n",
      "Received: 31.\n",
      "Sent: 36  Pending: 4\n",
      "Received: 35.\n",
      "Sent: 40  Pending: 4\n",
      "Received: 39.\n",
      "Sent: 44  Pending: 4\n",
      "Received: 43.\n",
      "Sent: 48  Pending: 4\n",
      "Received: 47.\n",
      "Sent: 52  Pending: 4\n",
      "Received: 51.\n",
      "Sent: 56  Pending: 4\n",
      "Received: 55.\n",
      "Sent: 60  Pending: 4\n",
      "Received: 59.\n",
      "Sent: 64  Pending: 4\n",
      "Received: 63.\n",
      "Sent: 68  Pending: 4\n",
      "Received: 67.\n",
      "Sent: 72  Pending: 4\n",
      "Received: 71.\n",
      "Sent: 76  Pending: 4\n",
      "Received: 75.\n",
      "Sent: 80  Pending: 4\n",
      "Received: 79.\n",
      "Sent: 84  Pending: 4\n",
      "Received: 83.\n",
      "Sent: 88  Pending: 4\n",
      "Received: 87.\n",
      "Sent: 92  Pending: 4\n",
      "Received: 91.\n",
      "Sent: 96  Pending: 4\n",
      "Received: 95.\n",
      "Sent: 100  Pending: 4\n",
      "Received: 99.\n",
      "Sent: 104  Pending: 4\n",
      "Received: 103.\n",
      "Sent: 108  Pending: 4\n",
      "Received: 107.\n",
      "Sent: 112  Pending: 4\n",
      "Received: 111.\n",
      "Sent: 116  Pending: 4\n",
      "Received: 115.\n",
      "Sent: 120  Pending: 4\n",
      "Received: 119.\n",
      "Sent: 124  Pending: 4\n",
      "Received: 123.\n",
      "Sent: 128  Pending: 4\n",
      "Received: 127.\n",
      "Sent: 132  Pending: 4\n",
      "Received: 131.\n",
      "Sent: 136  Pending: 4\n",
      "Received: 135.\n",
      "Sent: 140  Pending: 4\n",
      "Received: 139.\n",
      "Sent: 144  Pending: 4\n",
      "Received: 143.\n",
      "Sent: 148  Pending: 4\n",
      "Received: 147.\n",
      "Sent: 152  Pending: 4\n",
      "Received: 151.\n",
      "Sent: 156  Pending: 4\n",
      "Received: 155.\n",
      "Sent: 160  Pending: 4\n",
      "Received: 159.\n",
      "Sent: 164  Pending: 4\n",
      "Received: 163.\n",
      "Sent: 168  Pending: 4\n",
      "Received: 167.\n",
      "Sent: 172  Pending: 4\n",
      "Received: 171.\n",
      "Sent: 176  Pending: 4\n",
      "Received: 175.\n",
      "Sent: 180  Pending: 4\n",
      "Received: 179.\n",
      "Sent: 184  Pending: 4\n",
      "Received: 183.\n",
      "Sent: 188  Pending: 4\n",
      "Received: 187.\n",
      "Sent: 192  Pending: 4\n",
      "Received: 191.\n",
      "Sent: 196  Pending: 4\n",
      "Received: 195.\n",
      "Sent: 200  Pending: 4\n",
      "Received: 199.\n",
      "Sent: 204  Pending: 4\n",
      "Received: 203.\n",
      "Sent: 208  Pending: 4\n",
      "Received: 207.\n",
      "Sent: 212  Pending: 4\n",
      "Received: 211.\n",
      "Sent: 216  Pending: 4\n",
      "Received: 215.\n",
      "Sent: 220  Pending: 4\n",
      "Received: 219.\n",
      "Sent: 224  Pending: 4\n",
      "Received: 223.\n",
      "Sent: 228  Pending: 4\n",
      "Received: 227.\n",
      "Sent: 232  Pending: 4\n",
      "Received: 231.\n",
      "Sent: 236  Pending: 4\n",
      "Received: 235.\n",
      "Sent: 240  Pending: 4\n",
      "Received: 239.\n",
      "Sent: 244  Pending: 4\n",
      "Received: 243.\n",
      "Sent: 248  Pending: 4\n",
      "Received: 247.\n",
      "Sent: 252  Pending: 4\n",
      "Received: 251.\n",
      "Sent: 256  Pending: 4\n",
      "Received: 255.\n",
      "Sent: 260  Pending: 4\n",
      "Received: 259.\n",
      "Sent: 264  Pending: 4\n",
      "Received: 263.\n",
      "Sent: 268  Pending: 4\n",
      "Received: 267.\n",
      "Sent: 272  Pending: 4\n",
      "Received: 271.\n"
     ]
    }
   ],
   "source": [
    "txrx(dma, comb, 4, packets_out, n_total_packets=272, packet_latency=1, in_per_out=1, bin_out=True,\n",
    "         txfp=FP16_15, rxfp=(1,15), wait=True, show=True, tx_post_opfb=False, latency_shift=3*16)"
   ]
  },
  {
   "cell_type": "code",
   "execution_count": 10,
   "metadata": {},
   "outputs": [],
   "source": [
    "#Optionally save the data to the FPGA\n",
    "#if True:\n",
    "#    np.savez(f\"packets_out.npz\", freq=freq, phases=phases, amplitudes=amplitudes, packets_out=packets_out)"
   ]
  },
  {
   "cell_type": "markdown",
   "metadata": {},
   "source": [
    "## Look at the results"
   ]
  },
  {
   "cell_type": "code",
   "execution_count": 11,
   "metadata": {},
   "outputs": [],
   "source": [
    "packets_out=np.flip(packets_out, axis=0)"
   ]
  },
  {
   "cell_type": "code",
   "execution_count": 12,
   "metadata": {},
   "outputs": [
    {
     "data": {
      "text/plain": [
       "[<matplotlib.lines.Line2D at 0xffff83225c70>]"
      ]
     },
     "execution_count": 12,
     "metadata": {},
     "output_type": "execute_result"
    },
    {
     "data": {
      "image/png": "[encoded data removed]",
      "text/plain": [
       "<Figure size 1080x504 with 1 Axes>"
      ]
     },
     "metadata": {
      "needs_background": "light"
     },
     "output_type": "display_data"
    }
   ],
   "source": [
    "# plot an individual packet\n",
    "packet_num = 17\n",
    "plt.figure(figsize=(15,7))\n",
    "packet = np.fft.fftshift(np.abs(packets_out[packet_num]))\n",
    "plt.plot(packet)"
   ]
  },
  {
   "cell_type": "markdown",
   "metadata": {},
   "source": [
    "## Plot the OPFB Spectra"
   ]
  },
  {
   "cell_type": "markdown",
   "metadata": {},
   "source": [
    "Note pltslc picks out certain FFT frames. We start at 16 with the FPGA data because the first few frames are zeros as the core winds up (check individual packets above). To properly visualize the oversampled spectrum we take the fft of the output time series from each bin. This shows us the frequency content of each bin with spectral resolution 2 MHz/n_packets_received. We stitch the resulting 4096 spectra together, discarding the overlap region, to produce the final, fine spectrum. Not the observed frequency at 0 Hz is the DC offset. This can be mitigated by implementing symmetric rounding to zero at the cost of FPGA resources."
   ]
  },
  {
   "cell_type": "code",
   "execution_count": 13,
   "metadata": {},
   "outputs": [
    {
     "name": "stderr",
     "output_type": "stream",
     "text": [
      "/home/xilinx/src/mkidgen3/mkidgen3/testutils.py:256: RuntimeWarning: divide by zero encountered in log10\n",
      "  data = np.abs(data) if linear else 20 * np.log10(np.abs(data))\n"
     ]
    },
    {
     "data": {
      "image/png": "[encoded data removed]",
      "text/plain": [
       "<Figure size 1080x504 with 1 Axes>"
      ]
     },
     "metadata": {
      "needs_background": "light"
     },
     "output_type": "display_data"
    }
   ],
   "source": [
    "pltslc=slice(16,272)\n",
    "fpgaplotdata = extract_opfb_spec(do_fft(packets_out, sl=pltslc))\n",
    "plt.figure(figsize=(15,7))\n",
    "plt.plot(*fpgaplotdata, label='fpga', linewidth=.5)\n",
    "plt.xlabel('Frequency (MHz)')\n",
    "plt.ylabel('Power (dB)')\n",
    "plt.ylim([-100,60])\n",
    "plt.xlim([295,305])\n",
    "plt.grid()\n",
    "plt.title('OPFB Spectrum')\n",
    "plt.show()"
   ]
  }
 ],
 "metadata": {
  "kernelspec": {
   "display_name": "Python 3",
   "language": "python",
   "name": "python3"
  },
  "language_info": {
   "codemirror_mode": {
    "name": "ipython",
    "version": 3
   },
   "file_extension": ".py",
   "mimetype": "text/x-python",
   "name": "python",
   "nbconvert_exporter": "python",
   "pygments_lexer": "ipython3",
   "version": "3.8.2"
  },
  "toc": {
   "base_numbering": 1,
   "nav_menu": {},
   "number_sections": true,
   "sideBar": true,
   "skip_h1_title": false,
   "title_cell": "Table of Contents",
   "title_sidebar": "Contents",
   "toc_cell": false,
   "toc_position": {},
   "toc_section_display": true,
   "toc_window_display": false
  }
 },
 "nbformat": 4,
 "nbformat_minor": 1
}
